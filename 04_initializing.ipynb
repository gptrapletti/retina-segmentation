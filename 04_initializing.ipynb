{
 "cells": [
  {
   "cell_type": "code",
   "execution_count": 1,
   "metadata": {},
   "outputs": [
    {
     "name": "stderr",
     "output_type": "stream",
     "text": [
      "/home/gpievanitrapletti/.conda/envs/gym/lib/python3.8/site-packages/tqdm/auto.py:22: TqdmWarning: IProgress not found. Please update jupyter and ipywidgets. See https://ipywidgets.readthedocs.io/en/stable/user_install.html\n",
      "  from .autonotebook import tqdm as notebook_tqdm\n"
     ]
    }
   ],
   "source": [
    "import hydra\n",
    "import monai\n",
    "import torch\n",
    "\n",
    "with hydra.initialize(config_path=\"configs\", version_base=None, job_name=\"training\"):\n",
    "    cfg = hydra.compose(config_name=\"config.yaml\")"
   ]
  },
  {
   "cell_type": "code",
   "execution_count": 2,
   "metadata": {},
   "outputs": [
    {
     "name": "stdout",
     "output_type": "stream",
     "text": [
      "task_name\n",
      "retina_segmentation\n",
      "\n",
      "datamodule\n",
      "{'_target_': 'src.datamodule.RetinaDataModule', 'train_data_path': 'data/tiles/train_data.npz', 'val_data_path': 'data/tiles/val_data.npz', 'test_data_path': 'data/tiles/test_data.npz', 'batch_size': 32, 'train_transforms': '${transforms.train_transforms}', 'test_transforms': '${transforms.test_transforms}'}\n",
      "\n",
      "transforms\n",
      "{'norm_mean': [0, 0, 0], 'norm_std': [1, 1, 1], 'train_transforms': {'_target_': 'monai.transforms.Compose', 'transforms': [{'_target_': 'monai.transforms.RandRotateD', 'keys': ['image', 'mask'], 'range_x': [0, 180], 'prob': 0.5}, {'_target_': 'monai.transforms.RandAxisFlipD', 'keys': ['image', 'mask'], 'prob': 0.5}, {'_target_': 'monai.transforms.ToTensorD', 'keys': ['image', 'mask']}]}, 'test_transforms': {'_target_': 'monai.transforms.Compose', 'transforms': [{'_target_': 'monai.transforms.ToTensorD', 'keys': ['image', 'mask']}]}}\n",
      "\n",
      "backbone\n",
      "{'_target_': 'monai.networks.nets.UNet', 'spatial_dims': 2, 'in_channels': 3, 'out_channels': 1, 'channels': [16, 32, 64, 128], 'strides': [2, 2, 2], 'num_res_units': 3}\n",
      "\n",
      "model\n",
      "{'_target_': 'src.model.RetinaUNet'}\n",
      "\n",
      "metric\n",
      "{'_target_': 'torchmetrics.Dice', 'threshold': 0.5}\n",
      "\n",
      "loss\n",
      "{'_target_': 'monai.losses.DiceLoss', 'sigmoid': False}\n",
      "\n",
      "optimizer\n",
      "{'_target_': 'torch.optim.Adam', 'lr': 0.0001}\n",
      "\n",
      "trainer\n",
      "{'_target_': 'pytorch_lightning.Trainer', 'max_epochs': 100, 'accelerator': 'gpu', 'devices': [0]}\n",
      "\n",
      "callbacks\n",
      "{'model_checkpoint': {'_target_': 'pytorch_lightning.callbacks.ModelCheckpoint', 'dirpath': '${hydra.run.dir}/checkpoints', 'filename': 'epoch_{epoch:03d}', 'monitor': 'val_loss', 'mode': 'min', 'save_top_k': 1}}\n",
      "\n",
      "logger\n",
      "{'_target_': 'pytorch_lightning.loggers.MLFlowLogger', 'experiment_name': 'retina', 'run_name': 'default', 'tracking_uri': 'http://192.168.3.78:5001'}\n",
      "\n"
     ]
    }
   ],
   "source": [
    "for key in cfg:\n",
    "    print(key)\n",
    "    print(cfg[key])\n",
    "    print()"
   ]
  },
  {
   "cell_type": "code",
   "execution_count": 4,
   "metadata": {},
   "outputs": [
    {
     "name": "stdout",
     "output_type": "stream",
     "text": [
      "2023-03-06 08:40:43,971 - Created a temporary directory at /tmp/tmp3hbss6yv\n",
      "2023-03-06 08:40:43,973 - Writing /tmp/tmp3hbss6yv/_remote_module_non_scriptable.py\n"
     ]
    }
   ],
   "source": [
    "# DataModule\n",
    "datamodule = hydra.utils.instantiate(cfg['datamodule'])"
   ]
  },
  {
   "cell_type": "code",
   "execution_count": 21,
   "metadata": {},
   "outputs": [
    {
     "name": "stdout",
     "output_type": "stream",
     "text": [
      "Instantiating backbone \n",
      "\n",
      "Instantiating optimizer \n",
      "\n",
      "Instantiating loss and metric functions \n",
      "\n",
      "Instantiating model \n",
      "\n"
     ]
    }
   ],
   "source": [
    "print('Instantiating backbone \\n')\n",
    "backbone = torch.nn.Sequential(\n",
    "    hydra.utils.instantiate(cfg['backbone']),\n",
    "    torch.nn.Sigmoid()\n",
    ")\n",
    "\n",
    "print('Instantiating optimizer \\n')\n",
    "optimizer = hydra.utils.instantiate(cfg['optimizer'], params=backbone.parameters())\n",
    "\n",
    "print('Instantiating loss and metric functions \\n')\n",
    "loss_function = hydra.utils.instantiate(cfg['losses'])\n",
    "metric = hydra.utils.instantiate(cfg['metrics'])\n",
    "\n",
    "print('Instantiating model \\n')\n",
    "model = hydra.utils.instantiate(\n",
    "    cfg['model'], \n",
    "    backbone=backbone, \n",
    "    loss_function=loss_function, \n",
    "    metric=metric, \n",
    "    optimizer=optimizer\n",
    ")"
   ]
  },
  {
   "cell_type": "code",
   "execution_count": 22,
   "metadata": {},
   "outputs": [
    {
     "name": "stdout",
     "output_type": "stream",
     "text": [
      "Instantiating trainer \n",
      "\n",
      "2023-03-06 08:42:55,723 - GPU available: True (cuda), used: True\n",
      "2023-03-06 08:42:55,725 - TPU available: False, using: 0 TPU cores\n",
      "2023-03-06 08:42:55,726 - IPU available: False, using: 0 IPUs\n",
      "2023-03-06 08:42:55,727 - HPU available: False, using: 0 HPUs\n"
     ]
    },
    {
     "name": "stderr",
     "output_type": "stream",
     "text": [
      "/home/gpievanitrapletti/.conda/envs/gym/lib/python3.8/site-packages/pytorch_lightning/trainer/connectors/logger_connector/logger_connector.py:67: UserWarning: Starting from v1.9.0, `tensorboardX` has been removed as a dependency of the `pytorch_lightning` package, due to potential conflicts with other packages in the ML ecosystem. For this reason, `logger=True` will use `CSVLogger` as the default logger, unless the `tensorboard` or `tensorboardX` packages are found. Please `pip install lightning[extra]` or one of them to enable TensorBoard support by default\n",
      "  warning_cache.warn(\n"
     ]
    }
   ],
   "source": [
    "print('Instantiating trainer \\n')\n",
    "trainer = hydra.utils.instantiate(cfg['trainer'])"
   ]
  },
  {
   "cell_type": "code",
   "execution_count": 23,
   "metadata": {},
   "outputs": [
    {
     "name": "stdout",
     "output_type": "stream",
     "text": [
      "2023-03-06 08:42:58,372 - LOCAL_RANK: 0 - CUDA_VISIBLE_DEVICES: [0,1,2,3]\n",
      "2023-03-06 08:42:58,376 - \n",
      "  | Name          | Type       | Params\n",
      "---------------------------------------------\n",
      "0 | backbone      | Sequential | 597 K \n",
      "1 | loss_function | DiceLoss   | 0     \n",
      "---------------------------------------------\n",
      "597 K     Trainable params\n",
      "0         Non-trainable params\n",
      "597 K     Total params\n",
      "2.392     Total estimated model params size (MB)\n",
      "Epoch 0:   6%|▌         | 12/209 [00:01<00:24,  8.06it/s, loss=0.821, v_num=12, train_loss=0.813]"
     ]
    },
    {
     "name": "stderr",
     "output_type": "stream",
     "text": [
      "/home/gpievanitrapletti/.conda/envs/gym/lib/python3.8/site-packages/pytorch_lightning/trainer/call.py:48: UserWarning: Detected KeyboardInterrupt, attempting graceful shutdown...\n",
      "  rank_zero_warn(\"Detected KeyboardInterrupt, attempting graceful shutdown...\")\n"
     ]
    }
   ],
   "source": [
    "trainer.fit(model, datamodule)"
   ]
  },
  {
   "cell_type": "code",
   "execution_count": 6,
   "metadata": {},
   "outputs": [],
   "source": [
    "datamodule.prepare_data()"
   ]
  },
  {
   "cell_type": "code",
   "execution_count": 7,
   "metadata": {},
   "outputs": [
    {
     "data": {
      "text/plain": [
       "5173"
      ]
     },
     "execution_count": 7,
     "metadata": {},
     "output_type": "execute_result"
    }
   ],
   "source": [
    "len(datamodule.train_datadict)"
   ]
  },
  {
   "cell_type": "code",
   "execution_count": 8,
   "metadata": {},
   "outputs": [],
   "source": [
    "datamodule.setup(stage='fit')"
   ]
  },
  {
   "cell_type": "code",
   "execution_count": 9,
   "metadata": {},
   "outputs": [
    {
     "data": {
      "text/plain": [
       "5173"
      ]
     },
     "execution_count": 9,
     "metadata": {},
     "output_type": "execute_result"
    }
   ],
   "source": [
    "len(datamodule.train_dataset)"
   ]
  },
  {
   "cell_type": "code",
   "execution_count": 12,
   "metadata": {},
   "outputs": [
    {
     "data": {
      "text/plain": [
       "{'original_image': array([[[0.584, 0.592, 0.584, ..., 0.639, 0.616, 0.616],\n",
       "         [0.569, 0.588, 0.588, ..., 0.62 , 0.631, 0.627],\n",
       "         [0.576, 0.584, 0.588, ..., 0.635, 0.635, 0.631],\n",
       "         ...,\n",
       "         [0.525, 0.51 , 0.51 , ..., 0.6  , 0.588, 0.573],\n",
       "         [0.529, 0.525, 0.522, ..., 0.565, 0.569, 0.576],\n",
       "         [0.518, 0.525, 0.533, ..., 0.58 , 0.573, 0.557]],\n",
       " \n",
       "        [[0.451, 0.459, 0.451, ..., 0.467, 0.439, 0.439],\n",
       "         [0.435, 0.447, 0.447, ..., 0.439, 0.443, 0.439],\n",
       "         [0.435, 0.443, 0.447, ..., 0.447, 0.447, 0.435],\n",
       "         ...,\n",
       "         [0.435, 0.416, 0.416, ..., 0.451, 0.431, 0.416],\n",
       "         [0.443, 0.431, 0.427, ..., 0.424, 0.427, 0.427],\n",
       "         [0.427, 0.427, 0.435, ..., 0.431, 0.424, 0.416]],\n",
       " \n",
       "        [[0.314, 0.322, 0.314, ..., 0.314, 0.286, 0.286],\n",
       "         [0.298, 0.314, 0.314, ..., 0.298, 0.302, 0.298],\n",
       "         [0.302, 0.31 , 0.314, ..., 0.298, 0.298, 0.29 ],\n",
       "         ...,\n",
       "         [0.31 , 0.282, 0.282, ..., 0.31 , 0.294, 0.278],\n",
       "         [0.298, 0.298, 0.294, ..., 0.29 , 0.294, 0.286],\n",
       "         [0.306, 0.306, 0.314, ..., 0.29 , 0.282, 0.275]]], dtype=float32),\n",
       " 'image': tensor([[[0.5180, 0.5250, 0.5330,  ..., 0.5800, 0.5730, 0.5570],\n",
       "          [0.5290, 0.5250, 0.5220,  ..., 0.5650, 0.5690, 0.5760],\n",
       "          [0.5250, 0.5100, 0.5100,  ..., 0.6000, 0.5880, 0.5730],\n",
       "          ...,\n",
       "          [0.5760, 0.5840, 0.5880,  ..., 0.6350, 0.6350, 0.6310],\n",
       "          [0.5690, 0.5880, 0.5880,  ..., 0.6200, 0.6310, 0.6270],\n",
       "          [0.5840, 0.5920, 0.5840,  ..., 0.6390, 0.6160, 0.6160]],\n",
       " \n",
       "         [[0.4270, 0.4270, 0.4350,  ..., 0.4310, 0.4240, 0.4160],\n",
       "          [0.4430, 0.4310, 0.4270,  ..., 0.4240, 0.4270, 0.4270],\n",
       "          [0.4350, 0.4160, 0.4160,  ..., 0.4510, 0.4310, 0.4160],\n",
       "          ...,\n",
       "          [0.4350, 0.4430, 0.4470,  ..., 0.4470, 0.4470, 0.4350],\n",
       "          [0.4350, 0.4470, 0.4470,  ..., 0.4390, 0.4430, 0.4390],\n",
       "          [0.4510, 0.4590, 0.4510,  ..., 0.4670, 0.4390, 0.4390]],\n",
       " \n",
       "         [[0.3060, 0.3060, 0.3140,  ..., 0.2900, 0.2820, 0.2750],\n",
       "          [0.2980, 0.2980, 0.2940,  ..., 0.2900, 0.2940, 0.2860],\n",
       "          [0.3100, 0.2820, 0.2820,  ..., 0.3100, 0.2940, 0.2780],\n",
       "          ...,\n",
       "          [0.3020, 0.3100, 0.3140,  ..., 0.2980, 0.2980, 0.2900],\n",
       "          [0.2980, 0.3140, 0.3140,  ..., 0.2980, 0.3020, 0.2980],\n",
       "          [0.3140, 0.3220, 0.3140,  ..., 0.3140, 0.2860, 0.2860]]]),\n",
       " 'mask': tensor([[[0., 0., 0.,  ..., 0., 0., 0.],\n",
       "          [0., 0., 0.,  ..., 0., 0., 0.],\n",
       "          [0., 0., 0.,  ..., 0., 0., 0.],\n",
       "          ...,\n",
       "          [0., 0., 0.,  ..., 0., 0., 0.],\n",
       "          [0., 0., 0.,  ..., 0., 0., 0.],\n",
       "          [0., 0., 0.,  ..., 0., 0., 0.]]])}"
      ]
     },
     "execution_count": 12,
     "metadata": {},
     "output_type": "execute_result"
    }
   ],
   "source": [
    "datamodule.train_dataset[0]"
   ]
  },
  {
   "cell_type": "code",
   "execution_count": 13,
   "metadata": {},
   "outputs": [
    {
     "data": {
      "text/plain": [
       "3"
      ]
     },
     "execution_count": 13,
     "metadata": {},
     "output_type": "execute_result"
    }
   ],
   "source": [
    "len(datamodule.train_dataset[0])"
   ]
  },
  {
   "cell_type": "code",
   "execution_count": 10,
   "metadata": {},
   "outputs": [],
   "source": [
    "dl = datamodule.train_dataloader()"
   ]
  },
  {
   "cell_type": "code",
   "execution_count": 30,
   "metadata": {},
   "outputs": [
    {
     "data": {
      "text/plain": [
       "monai.data.dataloader.DataLoader"
      ]
     },
     "execution_count": 30,
     "metadata": {},
     "output_type": "execute_result"
    }
   ],
   "source": [
    "type(dl)"
   ]
  },
  {
   "cell_type": "code",
   "execution_count": 31,
   "metadata": {},
   "outputs": [
    {
     "data": {
      "text/plain": [
       "['_DataLoader__initialized',\n",
       " '_DataLoader__multiprocessing_context',\n",
       " '_IterableDataset_len_called',\n",
       " '__annotations__',\n",
       " '__class__',\n",
       " '__class_getitem__',\n",
       " '__delattr__',\n",
       " '__dict__',\n",
       " '__dir__',\n",
       " '__doc__',\n",
       " '__eq__',\n",
       " '__format__',\n",
       " '__ge__',\n",
       " '__getattribute__',\n",
       " '__gt__',\n",
       " '__hash__',\n",
       " '__init__',\n",
       " '__init_subclass__',\n",
       " '__iter__',\n",
       " '__le__',\n",
       " '__len__',\n",
       " '__lt__',\n",
       " '__module__',\n",
       " '__ne__',\n",
       " '__new__',\n",
       " '__orig_bases__',\n",
       " '__parameters__',\n",
       " '__reduce__',\n",
       " '__reduce_ex__',\n",
       " '__repr__',\n",
       " '__setattr__',\n",
       " '__sizeof__',\n",
       " '__slots__',\n",
       " '__str__',\n",
       " '__subclasshook__',\n",
       " '__weakref__',\n",
       " '_auto_collation',\n",
       " '_dataset_kind',\n",
       " '_get_iterator',\n",
       " '_index_sampler',\n",
       " '_is_protocol',\n",
       " '_iterator',\n",
       " 'batch_sampler',\n",
       " 'batch_size',\n",
       " 'check_worker_number_rationality',\n",
       " 'collate_fn',\n",
       " 'dataset',\n",
       " 'drop_last',\n",
       " 'generator',\n",
       " 'multiprocessing_context',\n",
       " 'num_workers',\n",
       " 'persistent_workers',\n",
       " 'pin_memory',\n",
       " 'pin_memory_device',\n",
       " 'prefetch_factor',\n",
       " 'sampler',\n",
       " 'timeout',\n",
       " 'worker_init_fn']"
      ]
     },
     "execution_count": 31,
     "metadata": {},
     "output_type": "execute_result"
    }
   ],
   "source": [
    "dir(dl)"
   ]
  },
  {
   "cell_type": "code",
   "execution_count": 19,
   "metadata": {},
   "outputs": [
    {
     "data": {
      "text/plain": [
       "32"
      ]
     },
     "execution_count": 19,
     "metadata": {},
     "output_type": "execute_result"
    }
   ],
   "source": [
    "dl.batch_size"
   ]
  },
  {
   "cell_type": "code",
   "execution_count": 11,
   "metadata": {},
   "outputs": [],
   "source": [
    "batch = next(iter(dl))"
   ]
  },
  {
   "cell_type": "code",
   "execution_count": 18,
   "metadata": {},
   "outputs": [
    {
     "data": {
      "text/plain": [
       "3"
      ]
     },
     "execution_count": 18,
     "metadata": {},
     "output_type": "execute_result"
    }
   ],
   "source": [
    "len(batch)"
   ]
  },
  {
   "cell_type": "code",
   "execution_count": 12,
   "metadata": {},
   "outputs": [
    {
     "data": {
      "text/plain": [
       "dict"
      ]
     },
     "execution_count": 12,
     "metadata": {},
     "output_type": "execute_result"
    }
   ],
   "source": [
    "type(batch)"
   ]
  },
  {
   "cell_type": "code",
   "execution_count": 13,
   "metadata": {},
   "outputs": [
    {
     "data": {
      "text/plain": [
       "dict_keys(['original_image', 'image', 'mask'])"
      ]
     },
     "execution_count": 13,
     "metadata": {},
     "output_type": "execute_result"
    }
   ],
   "source": [
    "batch.keys()"
   ]
  },
  {
   "cell_type": "code",
   "execution_count": 14,
   "metadata": {},
   "outputs": [
    {
     "data": {
      "text/plain": [
       "(monai.data.meta_tensor.MetaTensor, torch.Size([32, 3, 64, 64]))"
      ]
     },
     "execution_count": 14,
     "metadata": {},
     "output_type": "execute_result"
    }
   ],
   "source": [
    "type(batch['image']), batch['image'].shape"
   ]
  },
  {
   "cell_type": "code",
   "execution_count": 18,
   "metadata": {},
   "outputs": [],
   "source": [
    "ds = datamodule.train_dataset"
   ]
  },
  {
   "cell_type": "code",
   "execution_count": 22,
   "metadata": {},
   "outputs": [
    {
     "ename": "NameError",
     "evalue": "name 'ds' is not defined",
     "output_type": "error",
     "traceback": [
      "\u001b[0;31m---------------------------------------------------------------------------\u001b[0m",
      "\u001b[0;31mNameError\u001b[0m                                 Traceback (most recent call last)",
      "\u001b[1;32m/home/gpievanitrapletti/retina/04_initializing.ipynb Cell 24\u001b[0m in \u001b[0;36m<cell line: 1>\u001b[0;34m()\u001b[0m\n\u001b[0;32m----> <a href='vscode-notebook-cell://attached-container%2B7b22636f6e7461696e65724e616d65223a222f6a7570797465722d6770696576616e69747261706c65747469222c2273657474696e6773223a7b22686f7374223a227373683a2f2f3139322e3136382e332e3932227d7d/home/gpievanitrapletti/retina/04_initializing.ipynb#X32sdnNjb2RlLXJlbW90ZQ%3D%3D?line=0'>1</a>\u001b[0m \u001b[39mtype\u001b[39m(ds[\u001b[39m0\u001b[39m]), \u001b[39mlen\u001b[39m(ds[\u001b[39m0\u001b[39m]), ds[\u001b[39m0\u001b[39m]\u001b[39m.\u001b[39mkeys()\n",
      "\u001b[0;31mNameError\u001b[0m: name 'ds' is not defined"
     ]
    }
   ],
   "source": [
    "type(ds[0]), len(ds[0]), ds[0].keys()"
   ]
  },
  {
   "cell_type": "code",
   "execution_count": 15,
   "metadata": {},
   "outputs": [],
   "source": [
    "loss_function = monai.losses.DiceLoss(sigmoid=True)\n",
    "dice_metric = monai.metrics.DiceMetric(include_background=False, reduction=\"mean\")"
   ]
  },
  {
   "cell_type": "code",
   "execution_count": 24,
   "metadata": {},
   "outputs": [],
   "source": [
    "images, gts = batch['image'], batch['mask']"
   ]
  },
  {
   "cell_type": "code",
   "execution_count": 25,
   "metadata": {},
   "outputs": [],
   "source": [
    "images = images.to('cuda')\n",
    "gts = gts.to('cuda')"
   ]
  },
  {
   "cell_type": "code",
   "execution_count": 41,
   "metadata": {},
   "outputs": [
    {
     "data": {
      "text/plain": [
       "(monai.data.meta_tensor.MetaTensor, monai.data.meta_tensor.MetaTensor)"
      ]
     },
     "execution_count": 41,
     "metadata": {},
     "output_type": "execute_result"
    }
   ],
   "source": [
    "type(images), type(gts)"
   ]
  },
  {
   "cell_type": "code",
   "execution_count": 26,
   "metadata": {},
   "outputs": [],
   "source": [
    "preds = model(images)"
   ]
  },
  {
   "cell_type": "code",
   "execution_count": 27,
   "metadata": {},
   "outputs": [
    {
     "data": {
      "text/plain": [
       "tensor(0.7927, device='cuda:0', grad_fn=<AliasBackward0>)"
      ]
     },
     "execution_count": 27,
     "metadata": {},
     "output_type": "execute_result"
    }
   ],
   "source": [
    "loss_function(preds, gts)"
   ]
  },
  {
   "cell_type": "code",
   "execution_count": 54,
   "metadata": {},
   "outputs": [],
   "source": [
    "preds_binary = torch.where(preds > 0.5, True, False)"
   ]
  },
  {
   "cell_type": "code",
   "execution_count": 55,
   "metadata": {},
   "outputs": [
    {
     "data": {
      "text/plain": [
       "(torch.Size([32, 1, 64, 64]), torch.Size([32, 1, 64, 64]))"
      ]
     },
     "execution_count": 55,
     "metadata": {},
     "output_type": "execute_result"
    }
   ],
   "source": [
    "preds_binary.shape, gts.shape"
   ]
  },
  {
   "cell_type": "code",
   "execution_count": 56,
   "metadata": {},
   "outputs": [
    {
     "data": {
      "text/plain": [
       "tensor([[0.4921],\n",
       "        [0.3212],\n",
       "        [0.1916],\n",
       "        [0.5040],\n",
       "        [0.7364],\n",
       "        [0.7457],\n",
       "        [0.2917],\n",
       "        [0.1364],\n",
       "        [0.4073],\n",
       "        [0.2401],\n",
       "        [0.7744],\n",
       "        [0.4841],\n",
       "        [0.2787],\n",
       "        [0.3616],\n",
       "        [0.6299],\n",
       "        [0.7564],\n",
       "        [0.2275],\n",
       "        [0.4470],\n",
       "        [0.4311],\n",
       "        [0.3476],\n",
       "        [0.0904],\n",
       "        [0.8150],\n",
       "        [0.2240],\n",
       "        [0.4211],\n",
       "        [0.5540],\n",
       "        [0.4000],\n",
       "        [0.4669],\n",
       "        [0.1304],\n",
       "        [0.2746],\n",
       "        [0.5170],\n",
       "        [0.1955],\n",
       "        [0.7615]], device='cuda:0')"
      ]
     },
     "execution_count": 56,
     "metadata": {},
     "output_type": "execute_result"
    }
   ],
   "source": [
    "dice_metric(preds_binary, gts)"
   ]
  },
  {
   "cell_type": "code",
   "execution_count": 59,
   "metadata": {},
   "outputs": [
    {
     "data": {
      "text/plain": [
       "torch.Size([3, 1, 64, 64])"
      ]
     },
     "execution_count": 59,
     "metadata": {},
     "output_type": "execute_result"
    }
   ],
   "source": [
    "v = preds_binary[:3]\n",
    "v.shape"
   ]
  },
  {
   "cell_type": "code",
   "execution_count": 60,
   "metadata": {},
   "outputs": [
    {
     "data": {
      "text/plain": [
       "torch.Size([1, 64, 64])"
      ]
     },
     "execution_count": 60,
     "metadata": {},
     "output_type": "execute_result"
    }
   ],
   "source": [
    "a = preds_binary[0]\n",
    "a.shape"
   ]
  },
  {
   "cell_type": "code",
   "execution_count": 65,
   "metadata": {},
   "outputs": [],
   "source": [
    "a0 = torch.where(a==False, True, False)[None, ...]\n",
    "a1 = torch.where(a==True, True, False)[None, ...]"
   ]
  },
  {
   "cell_type": "code",
   "execution_count": 66,
   "metadata": {},
   "outputs": [
    {
     "data": {
      "text/plain": [
       "(torch.Size([1, 1, 64, 64]), torch.Size([1, 1, 64, 64]))"
      ]
     },
     "execution_count": 66,
     "metadata": {},
     "output_type": "execute_result"
    }
   ],
   "source": [
    "a0.shape, a1.shape"
   ]
  },
  {
   "cell_type": "code",
   "execution_count": 75,
   "metadata": {},
   "outputs": [
    {
     "data": {
      "text/plain": [
       "torch.Size([2, 1, 64, 64])"
      ]
     },
     "execution_count": 75,
     "metadata": {},
     "output_type": "execute_result"
    }
   ],
   "source": [
    "c = torch.cat([a0, a1], dim=0)\n",
    "c.shape"
   ]
  },
  {
   "attachments": {},
   "cell_type": "markdown",
   "metadata": {},
   "source": [
    "PROVARE SE A DARGLI UN TENSOR ONE-HOT-ENCODED LA METRICA FUNZIONA BENE"
   ]
  },
  {
   "cell_type": "code",
   "execution_count": 76,
   "metadata": {},
   "outputs": [
    {
     "data": {
      "text/plain": [
       "tensor([[1.],\n",
       "        [1.]], device='cuda:0')"
      ]
     },
     "execution_count": 76,
     "metadata": {},
     "output_type": "execute_result"
    }
   ],
   "source": [
    "dice_metric(c, c)"
   ]
  },
  {
   "attachments": {},
   "cell_type": "markdown",
   "metadata": {},
   "source": [
    "NO :("
   ]
  },
  {
   "attachments": {},
   "cell_type": "markdown",
   "metadata": {},
   "source": [
    "## DICE"
   ]
  },
  {
   "attachments": {},
   "cell_type": "markdown",
   "metadata": {},
   "source": [
    "- Dice metric: 2TP/(2TP+FP+FN) AKA 2*intersection/union (in the union, the overlap should be added).\n",
    "- Dice Loss: 1 - Dice metric"
   ]
  },
  {
   "cell_type": "code",
   "execution_count": 159,
   "metadata": {},
   "outputs": [
    {
     "name": "stdout",
     "output_type": "stream",
     "text": [
      "tensor([[[0., 0., 0., 0.],\n",
      "         [0., 1., 1., 0.],\n",
      "         [0., 1., 1., 0.],\n",
      "         [0., 0., 0., 0.]]])\n",
      "\n",
      "tensor([[[0., 0., 0., 0.],\n",
      "         [0., 1., 1., 0.],\n",
      "         [1., 1., 0., 0.],\n",
      "         [0., 0., 0., 0.]]])\n"
     ]
    }
   ],
   "source": [
    "# Dummy example\n",
    "grnd = torch.zeros(1, 4, 4)\n",
    "pred = torch.zeros(1, 4, 4)\n",
    "grnd[..., 1, 1] = grnd[..., 1, 2] = grnd[..., 2, 1] = grnd[..., 2, 2] = 1\n",
    "pred[..., 1, 1] = pred[..., 1, 2] = pred[..., 2, 0] = pred[..., 2, 1] = 1\n",
    "\n",
    "print(grnd)\n",
    "print()\n",
    "print(pred)"
   ]
  },
  {
   "attachments": {},
   "cell_type": "markdown",
   "metadata": {},
   "source": [
    "Dice metric = (2 * 3) / (2 * 3 + 1 + 1) = 0.75"
   ]
  },
  {
   "cell_type": "code",
   "execution_count": 161,
   "metadata": {},
   "outputs": [
    {
     "name": "stderr",
     "output_type": "stream",
     "text": [
      "/tmp/ipykernel_2139719/3751498273.py:5: UserWarning: To copy construct from a tensor, it is recommended to use sourceTensor.clone().detach() or sourceTensor.clone().detach().requires_grad_(True), rather than torch.tensor(sourceTensor).\n",
      "  dice_metric_torch(pred, torch.tensor(grnd, dtype=torch.int8))\n"
     ]
    },
    {
     "data": {
      "text/plain": [
       "tensor(0.7500)"
      ]
     },
     "execution_count": 161,
     "metadata": {},
     "output_type": "execute_result"
    }
   ],
   "source": [
    "# PyTorch Dice\n",
    "import torchmetrics\n",
    "dice_metric_torch = torchmetrics.Dice()\n",
    "\n",
    "dice_metric_torch(pred, torch.tensor(grnd, dtype=torch.int8))"
   ]
  },
  {
   "cell_type": "code",
   "execution_count": 162,
   "metadata": {},
   "outputs": [
    {
     "name": "stdout",
     "output_type": "stream",
     "text": [
      "torch.Size([1, 1, 4, 4])\n"
     ]
    },
    {
     "name": "stderr",
     "output_type": "stream",
     "text": [
      "/tmp/ipykernel_2139719/443231933.py:6: UserWarning: To copy construct from a tensor, it is recommended to use sourceTensor.clone().detach() or sourceTensor.clone().detach().requires_grad_(True), rather than torch.tensor(sourceTensor).\n",
      "  dice_metric_torch(predn, torch.tensor(grndn, dtype=torch.int8))\n"
     ]
    },
    {
     "data": {
      "text/plain": [
       "tensor(0.7500)"
      ]
     },
     "execution_count": 162,
     "metadata": {},
     "output_type": "execute_result"
    }
   ],
   "source": [
    "# PyTorch Dice adding the batch dimension\n",
    "predn = pred[None]\n",
    "grndn = grnd[None]\n",
    "print(predn.shape)\n",
    "\n",
    "dice_metric_torch(predn, torch.tensor(grndn, dtype=torch.int8))"
   ]
  },
  {
   "cell_type": "code",
   "execution_count": 163,
   "metadata": {},
   "outputs": [
    {
     "name": "stdout",
     "output_type": "stream",
     "text": [
      "torch.Size([3, 1, 4, 4])\n"
     ]
    },
    {
     "name": "stderr",
     "output_type": "stream",
     "text": [
      "/tmp/ipykernel_2139719/392042135.py:6: UserWarning: To copy construct from a tensor, it is recommended to use sourceTensor.clone().detach() or sourceTensor.clone().detach().requires_grad_(True), rather than torch.tensor(sourceTensor).\n",
      "  dice_metric_torch(batch_pred, torch.tensor(batch_grnd, dtype=torch.int8))\n"
     ]
    },
    {
     "data": {
      "text/plain": [
       "tensor(0.7500)"
      ]
     },
     "execution_count": 163,
     "metadata": {},
     "output_type": "execute_result"
    }
   ],
   "source": [
    "# PyTorch Dice simulating a real batch\n",
    "batch_pred = torch.cat([predn, predn, predn])\n",
    "batch_grnd = torch.cat([grndn, grndn, grndn])\n",
    "print(batch_pred.shape)\n",
    "\n",
    "dice_metric_torch(batch_pred, torch.tensor(batch_grnd, dtype=torch.int8))"
   ]
  },
  {
   "cell_type": "code",
   "execution_count": 175,
   "metadata": {},
   "outputs": [
    {
     "data": {
      "text/plain": [
       "tensor([[   nan, 1.0000, 0.5000,    nan]])"
      ]
     },
     "execution_count": 175,
     "metadata": {},
     "output_type": "execute_result"
    }
   ],
   "source": [
    "# Monai's\n",
    "dice_metric_monai = monai.metrics.DiceMetric()\n",
    "dice_metric_monai(pred, grnd)"
   ]
  },
  {
   "cell_type": "code",
   "execution_count": 176,
   "metadata": {},
   "outputs": [
    {
     "data": {
      "text/plain": [
       "tensor([[0.7500]])"
      ]
     },
     "execution_count": 176,
     "metadata": {},
     "output_type": "execute_result"
    }
   ],
   "source": [
    "# Monai's with batch channel\n",
    "dice_metric_monai = monai.metrics.DiceMetric()\n",
    "dice_metric_monai(predn, grndn)"
   ]
  },
  {
   "cell_type": "code",
   "execution_count": 194,
   "metadata": {},
   "outputs": [
    {
     "data": {
      "text/plain": [
       "tensor([[0.7500],\n",
       "        [0.7500],\n",
       "        [0.7500]])"
      ]
     },
     "execution_count": 194,
     "metadata": {},
     "output_type": "execute_result"
    }
   ],
   "source": [
    "# Monai's with proper batch\n",
    "dice_metric_monai(batch_pred, batch_grnd)"
   ]
  },
  {
   "attachments": {},
   "cell_type": "markdown",
   "metadata": {},
   "source": [
    "It returns a freaking vector!"
   ]
  },
  {
   "cell_type": "code",
   "execution_count": 190,
   "metadata": {},
   "outputs": [],
   "source": [
    "# Mine\n",
    "class RetinaDiceMetric():\n",
    "    def __init__(self, threshold=0.5):\n",
    "        self.threshold = threshold\n",
    "    \n",
    "    def __call__(self, preds, targets):\n",
    "        preds = preds.clone().detach()\n",
    "        targets = targets.clone().detach()\n",
    "        preds, targets = self.binarize(preds), self.binarize(targets)\n",
    "        n = len(preds)\n",
    "        dices = []\n",
    "        for i in range(n):\n",
    "            img, mask = preds[i], targets[i]\n",
    "            intersection = torch.sum(img * mask)\n",
    "            union = img.sum() + mask.sum() + 1e-12\n",
    "            dice = intersection / union\n",
    "            dices.append(dice.unsqueeze(0))\n",
    "        batch_dice = 2*torch.mean(torch.cat(dices))\n",
    "        return batch_dice\n",
    "\n",
    "    def binarize (self, a):\n",
    "        return torch.where(a > self.threshold, True, False)"
   ]
  },
  {
   "cell_type": "code",
   "execution_count": 191,
   "metadata": {},
   "outputs": [
    {
     "data": {
      "text/plain": [
       "tensor(0.7500)"
      ]
     },
     "execution_count": 191,
     "metadata": {},
     "output_type": "execute_result"
    }
   ],
   "source": [
    "dice_metric_retina = RetinaDiceMetric()\n",
    "\n",
    "dice_metric_retina(pred, grnd)"
   ]
  },
  {
   "cell_type": "code",
   "execution_count": 179,
   "metadata": {},
   "outputs": [
    {
     "data": {
      "text/plain": [
       "tensor(0.7500)"
      ]
     },
     "execution_count": 179,
     "metadata": {},
     "output_type": "execute_result"
    }
   ],
   "source": [
    "dice_metric_retina(predn, grndn)"
   ]
  },
  {
   "cell_type": "code",
   "execution_count": 181,
   "metadata": {},
   "outputs": [],
   "source": [
    "datamodule.prepare_data()\n",
    "datamodule.setup(stage='fit')\n",
    "dl = datamodule.train_dataloader()\n",
    "batch = next(iter(dl))\n",
    "images, gts = batch['image'].to('cuda'), batch['mask'].to('cuda')\n",
    "preds = model(images)"
   ]
  },
  {
   "cell_type": "code",
   "execution_count": 188,
   "metadata": {},
   "outputs": [
    {
     "name": "stderr",
     "output_type": "stream",
     "text": [
      "/tmp/ipykernel_2139719/846093366.py:3: UserWarning: To copy construct from a tensor, it is recommended to use sourceTensor.clone().detach() or sourceTensor.clone().detach().requires_grad_(True), rather than torch.tensor(sourceTensor).\n",
      "  torch.tensor(gts, dtype=torch.int8).detach().cpu()\n"
     ]
    },
    {
     "data": {
      "text/plain": [
       "tensor(0.1781)"
      ]
     },
     "execution_count": 188,
     "metadata": {},
     "output_type": "execute_result"
    }
   ],
   "source": [
    "# Pytorch With retina predictions\n",
    "dice_metric_torch(\n",
    "    preds.detach().cpu(),\n",
    "    torch.tensor(gts, dtype=torch.int8).detach().cpu()\n",
    ")\n",
    "\n",
    "# tensor(0.1781)"
   ]
  },
  {
   "cell_type": "code",
   "execution_count": 192,
   "metadata": {},
   "outputs": [
    {
     "name": "stderr",
     "output_type": "stream",
     "text": [
      "/tmp/ipykernel_2139719/3303346278.py:3: UserWarning: To copy construct from a tensor, it is recommended to use sourceTensor.clone().detach() or sourceTensor.clone().detach().requires_grad_(True), rather than torch.tensor(sourceTensor).\n",
      "  torch.tensor(gts, dtype=torch.int8).detach().cpu()\n"
     ]
    },
    {
     "data": {
      "text/plain": [
       "tensor(0.1610)"
      ]
     },
     "execution_count": 192,
     "metadata": {},
     "output_type": "execute_result"
    }
   ],
   "source": [
    "# Mine With retina predictions\n",
    "dice_metric_retina(\n",
    "    preds.detach().cpu(),\n",
    "    torch.tensor(gts, dtype=torch.int8).detach().cpu()\n",
    ")\n",
    "\n",
    "# tensor(0.1610)\n",
    "# A bit different from PyTorch's implementation"
   ]
  },
  {
   "cell_type": "code",
   "execution_count": 195,
   "metadata": {},
   "outputs": [
    {
     "name": "stderr",
     "output_type": "stream",
     "text": [
      "/home/gpievanitrapletti/.conda/envs/gym/lib/python3.8/site-packages/monai/metrics/utils.py:219: UserWarning: y_pred should be a binarized tensor.\n",
      "  warnings.warn(f\"{name} should be a binarized tensor.\")\n",
      "/home/gpievanitrapletti/.conda/envs/gym/lib/python3.8/site-packages/monai/metrics/utils.py:219: UserWarning: y should be a binarized tensor.\n",
      "  warnings.warn(f\"{name} should be a binarized tensor.\")\n"
     ]
    },
    {
     "data": {
      "text/plain": [
       "torch.Size([32, 1])"
      ]
     },
     "execution_count": 195,
     "metadata": {},
     "output_type": "execute_result"
    }
   ],
   "source": [
    "# Monai's with retina predictions\n",
    "result = dice_metric_monai(preds, gts)\n",
    "result.shape"
   ]
  },
  {
   "cell_type": "code",
   "execution_count": 201,
   "metadata": {},
   "outputs": [
    {
     "name": "stdout",
     "output_type": "stream",
     "text": [
      "tensor(0.2500)\n",
      "tensor(0.5832)\n"
     ]
    }
   ],
   "source": [
    "# Monai dice loss (not metric!) with and without sigmoid\n",
    "dice_loss_monai = monai.losses.DiceLoss(sigmoid=False)\n",
    "print(dice_loss_monai(batch_pred, batch_grnd))\n",
    "\n",
    "dice_loss_monai = monai.losses.DiceLoss(sigmoid=True)\n",
    "print(dice_loss_monai(batch_pred, batch_grnd))"
   ]
  },
  {
   "cell_type": "code",
   "execution_count": 203,
   "metadata": {},
   "outputs": [
    {
     "data": {
      "text/plain": [
       "tensor(0.9969, device='cuda:0', grad_fn=<AliasBackward0>)"
      ]
     },
     "execution_count": 203,
     "metadata": {},
     "output_type": "execute_result"
    }
   ],
   "source": [
    "preds.max()"
   ]
  },
  {
   "attachments": {},
   "cell_type": "markdown",
   "metadata": {},
   "source": [
    "## CALLBACKS"
   ]
  },
  {
   "cell_type": "code",
   "execution_count": 8,
   "metadata": {},
   "outputs": [
    {
     "data": {
      "text/plain": [
       "{'early_stopping': {'_target_': 'pytorch_lightning.callbacks.EarlyStopping', 'monitor': 'val_loss', 'mode': 'min', 'min_delta': 0.001, 'patient': 10}, 'model_checkpoint': {'_target_': 'pytorch_lightning.callbacks.ModelCheckpoint', 'dirpath': 'model_checkpoints', 'filename': 'checkpoint', 'monitor': 'val_loss', 'mode': 'min', 'save_top_k': 1}}"
      ]
     },
     "execution_count": 8,
     "metadata": {},
     "output_type": "execute_result"
    }
   ],
   "source": [
    "cfg['callbacks']"
   ]
  },
  {
   "cell_type": "code",
   "execution_count": 25,
   "metadata": {},
   "outputs": [],
   "source": [
    "from src.utils import instantiate_callbacks"
   ]
  },
  {
   "cell_type": "code",
   "execution_count": 26,
   "metadata": {},
   "outputs": [
    {
     "data": {
      "text/plain": [
       "[<pytorch_lightning.callbacks.early_stopping.EarlyStopping at 0x7f5185a84d90>,\n",
       " <pytorch_lightning.callbacks.model_checkpoint.ModelCheckpoint at 0x7f5185b20c10>]"
      ]
     },
     "execution_count": 26,
     "metadata": {},
     "output_type": "execute_result"
    }
   ],
   "source": [
    "l = instantiate_callbacks(cfg['callbacks'])\n",
    "l"
   ]
  },
  {
   "cell_type": "code",
   "execution_count": null,
   "metadata": {},
   "outputs": [],
   "source": []
  },
  {
   "cell_type": "code",
   "execution_count": null,
   "metadata": {},
   "outputs": [],
   "source": []
  },
  {
   "cell_type": "code",
   "execution_count": null,
   "metadata": {},
   "outputs": [],
   "source": []
  }
 ],
 "metadata": {
  "kernelspec": {
   "display_name": "gym",
   "language": "python",
   "name": "python3"
  },
  "language_info": {
   "codemirror_mode": {
    "name": "ipython",
    "version": 3
   },
   "file_extension": ".py",
   "mimetype": "text/x-python",
   "name": "python",
   "nbconvert_exporter": "python",
   "pygments_lexer": "ipython3",
   "version": "3.8.16"
  },
  "orig_nbformat": 4
 },
 "nbformat": 4,
 "nbformat_minor": 2
}
