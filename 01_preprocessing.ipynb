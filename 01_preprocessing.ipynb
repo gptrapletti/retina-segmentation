{
 "cells": [
  {
   "cell_type": "code",
   "execution_count": 2,
   "metadata": {},
   "outputs": [],
   "source": [
    "import os\n",
    "import random\n",
    "import numpy as np\n",
    "from PIL import Image\n",
    "import matplotlib.pyplot as plt\n",
    "from sklearn.feature_extraction.image import extract_patches_2d\n",
    "from digipath.plotter import plotter\n",
    "from tqdm import tqdm"
   ]
  },
  {
   "cell_type": "code",
   "execution_count": 74,
   "metadata": {},
   "outputs": [],
   "source": [
    "ORIGINAL_DATA_DIR = 'data/drive_training'\n",
    "PROCESSED_DATA_DIR = 'data/processed'\n",
    "N_TILES_PER_IMAGE = 400\n",
    "TILE_SIZE = 64"
   ]
  },
  {
   "attachments": {},
   "cell_type": "markdown",
   "metadata": {},
   "source": [
    "# <ins> PROCESS ORIGINAL DATA"
   ]
  },
  {
   "cell_type": "code",
   "execution_count": 4,
   "metadata": {},
   "outputs": [
    {
     "data": {
      "text/plain": [
       "['fov', 'images', 'gts']"
      ]
     },
     "execution_count": 4,
     "metadata": {},
     "output_type": "execute_result"
    }
   ],
   "source": [
    "dirs = os.listdir(ORIGINAL_DATA_DIR)\n",
    "dirs"
   ]
  },
  {
   "cell_type": "code",
   "execution_count": 5,
   "metadata": {},
   "outputs": [],
   "source": [
    "# # Rename files and save as PNGs.\n",
    "# for dir in dirs:\n",
    "#     dirpath = os.path.join(ORIGINAL_DATA_DIR, dir)\n",
    "#     filepaths = sorted([os.path.join(dirpath, x) for x in os.listdir(dirpath)])\n",
    "    \n",
    "#     for i in range(len(filepaths)):\n",
    "#         file = Image.open(filepaths[i])\n",
    "#         output_dirpath = os.path.join(PROCESSED_DATA_DIR, dir)\n",
    "        \n",
    "#         if not os.path.exists(output_dirpath):\n",
    "#             os.makedirs(output_dirpath)\n",
    "        \n",
    "#         # Build filename\n",
    "#         n_zeros = 3 - len(str(i))\n",
    "#         filename = n_zeros * '0' + str(i) + '.png'\n",
    "        \n",
    "#         file.save(os.path.join(output_dirpath, filename))"
   ]
  },
  {
   "cell_type": "code",
   "execution_count": 6,
   "metadata": {},
   "outputs": [
    {
     "data": {
      "text/plain": [
       "(565.0, 584.0)"
      ]
     },
     "execution_count": 6,
     "metadata": {},
     "output_type": "execute_result"
    }
   ],
   "source": [
    "# Average image size.\n",
    "dirpath = os.path.join(PROCESSED_DATA_DIR, 'images')\n",
    "filepaths = sorted([os.path.join(dirpath, x) for x in os.listdir(dirpath)])\n",
    "\n",
    "sizes = []\n",
    "for i in range(len(filepaths)):\n",
    "    image = Image.open(filepaths[i])\n",
    "    sizes.append(image._size)\n",
    "\n",
    "np.mean([x[0] for x in sizes]), np.mean([x[1] for x in sizes])"
   ]
  },
  {
   "attachments": {},
   "cell_type": "markdown",
   "metadata": {},
   "source": [
    "# <ins> EXTRACT TILES"
   ]
  },
  {
   "cell_type": "code",
   "execution_count": 75,
   "metadata": {},
   "outputs": [
    {
     "data": {
      "text/plain": [
       "20"
      ]
     },
     "execution_count": 75,
     "metadata": {},
     "output_type": "execute_result"
    }
   ],
   "source": [
    "# Number of original images\n",
    "len(os.listdir(os.path.join(PROCESSED_DATA_DIR, 'images')))"
   ]
  },
  {
   "attachments": {},
   "cell_type": "markdown",
   "metadata": {},
   "source": [
    "## FOR ONE IMAGE"
   ]
  },
  {
   "cell_type": "code",
   "execution_count": 8,
   "metadata": {},
   "outputs": [],
   "source": [
    "image = Image.open('/home/gpievanitrapletti/retina/data/processed/images/000.png')\n",
    "gt = Image.open('/home/gpievanitrapletti/retina/data/processed/gts/000.png')"
   ]
  },
  {
   "cell_type": "code",
   "execution_count": 9,
   "metadata": {},
   "outputs": [
    {
     "name": "stdout",
     "output_type": "stream",
     "text": [
      "(584, 565, 3)\n"
     ]
    }
   ],
   "source": [
    "image_ar = np.array(image)\n",
    "gt_ar = np.array(gt)\n",
    "print(image_ar.shape)"
   ]
  },
  {
   "cell_type": "code",
   "execution_count": 10,
   "metadata": {},
   "outputs": [],
   "source": [
    "# plotter(image_ar, 3)"
   ]
  },
  {
   "cell_type": "code",
   "execution_count": 11,
   "metadata": {},
   "outputs": [],
   "source": [
    "# plotter(gt, 3)"
   ]
  },
  {
   "cell_type": "code",
   "execution_count": 12,
   "metadata": {},
   "outputs": [
    {
     "name": "stdout",
     "output_type": "stream",
     "text": [
      "(300, 64, 64, 3) (300, 64, 64)\n"
     ]
    }
   ],
   "source": [
    "image_patches = extract_patches_2d(image_ar, (TILE_SIZE, TILE_SIZE), max_patches=N_TILES_PER_IMAGE, random_state=42)\n",
    "gt_patches = extract_patches_2d(gt_ar, (TILE_SIZE, TILE_SIZE), max_patches=N_TILES_PER_IMAGE, random_state=42)\n",
    "\n",
    "print(image_patches.shape, gt_patches.shape)"
   ]
  },
  {
   "cell_type": "code",
   "execution_count": 13,
   "metadata": {},
   "outputs": [],
   "source": [
    "# # Some of the extracted tiles\n",
    "# fig, axes = plt.subplots(nrows=5, ncols=5, figsize=(5, 5))\n",
    "\n",
    "# z = 0\n",
    "# for i in range(5):\n",
    "#     for j in range(5):\n",
    "#         # Plot the data on the current subplot\n",
    "#         axes[i,j].imshow(image_patches[z])\n",
    "#         axes[i,j].axis('off')\n",
    "#         z += 1\n",
    "\n",
    "# plt.subplots_adjust(left=0.1, right=0.9, bottom=0.1, top=0.9, wspace=0.1, hspace=0.1) # spacing\n",
    "# plt.show()"
   ]
  },
  {
   "cell_type": "code",
   "execution_count": 14,
   "metadata": {},
   "outputs": [],
   "source": [
    "# # Their gt gts\n",
    "# fig, axes = plt.subplots(nrows=5, ncols=5, figsize=(5, 5))\n",
    "\n",
    "# z = 0\n",
    "# for i in range(5):\n",
    "#     for j in range(5):\n",
    "#         # Plot the data on the current subplot\n",
    "#         axes[i,j].imshow(gt_patches[z], cmap='gray')\n",
    "#         axes[i,j].axis('off')\n",
    "#         z += 1\n",
    "\n",
    "# plt.subplots_adjust(left=0.1, right=0.9, bottom=0.1, top=0.9, wspace=0.1, hspace=0.1) # spacing\n",
    "# plt.show()"
   ]
  },
  {
   "attachments": {},
   "cell_type": "markdown",
   "metadata": {},
   "source": [
    "## EXTRACT ALL TILES AND MASKS"
   ]
  },
  {
   "cell_type": "code",
   "execution_count": 76,
   "metadata": {},
   "outputs": [],
   "source": [
    "images_input_path = os.path.join(PROCESSED_DATA_DIR, 'images')\n",
    "gts_input_path = os.path.join(PROCESSED_DATA_DIR, 'gts')\n",
    "OUTPUT_PATH = 'data/tiles'"
   ]
  },
  {
   "cell_type": "code",
   "execution_count": 77,
   "metadata": {},
   "outputs": [],
   "source": [
    "# image_paths = sorted([os.path.join(images_input_path, x) for x in os.listdir(images_input_path)])\n",
    "# gt_paths = sorted([os.path.join(gts_input_path, x) for x in os.listdir(gts_input_path)])\n",
    "\n",
    "# len(image_paths), len(gt_paths)"
   ]
  },
  {
   "cell_type": "code",
   "execution_count": 78,
   "metadata": {},
   "outputs": [
    {
     "data": {
      "text/plain": [
       "20"
      ]
     },
     "execution_count": 78,
     "metadata": {},
     "output_type": "execute_result"
    }
   ],
   "source": [
    "# Data paths, as list of data dicts\n",
    "data_paths = []\n",
    "image_paths = sorted([os.path.join(images_input_path, x) for x in os.listdir(images_input_path)])\n",
    "gt_paths = sorted([os.path.join(gts_input_path, x) for x in os.listdir(gts_input_path)])\n",
    "for i in range(len(image_paths)):\n",
    "    d = {\n",
    "        'image': image_paths[i],\n",
    "        'mask': gt_paths[i]\n",
    "    }\n",
    "    data_paths.append(d)\n",
    "\n",
    "random.seed(42)\n",
    "random.shuffle(data_paths)\n",
    "\n",
    "len(data_paths)"
   ]
  },
  {
   "cell_type": "code",
   "execution_count": 79,
   "metadata": {},
   "outputs": [
    {
     "data": {
      "text/plain": [
       "{'image': 'data/processed/images/019.png',\n",
       " 'mask': 'data/processed/gts/019.png'}"
      ]
     },
     "execution_count": 79,
     "metadata": {},
     "output_type": "execute_result"
    }
   ],
   "source": [
    "data_paths[0]"
   ]
  },
  {
   "cell_type": "code",
   "execution_count": 80,
   "metadata": {},
   "outputs": [],
   "source": [
    "# train_image_paths, train_gt_paths = image_paths[:18], gt_paths[:18]\n",
    "# test_image_paths, test_gt_paths = image_paths[18:], gt_paths[18:]\n",
    "\n",
    "# print(len(train_image_paths), len(train_gt_paths))\n",
    "# print(len(test_image_paths), len(test_gt_paths))"
   ]
  },
  {
   "cell_type": "code",
   "execution_count": 81,
   "metadata": {},
   "outputs": [
    {
     "data": {
      "text/plain": [
       "(14, 4, 2)"
      ]
     },
     "execution_count": 81,
     "metadata": {},
     "output_type": "execute_result"
    }
   ],
   "source": [
    "n_train = int(len(data_paths)*0.7)\n",
    "n_val = int(len(data_paths)*0.2)\n",
    "n_test = int(len(data_paths)*0.1)\n",
    "\n",
    "n_train, n_val, n_test"
   ]
  },
  {
   "cell_type": "code",
   "execution_count": 82,
   "metadata": {},
   "outputs": [
    {
     "data": {
      "text/plain": [
       "(14, 4, 2)"
      ]
     },
     "execution_count": 82,
     "metadata": {},
     "output_type": "execute_result"
    }
   ],
   "source": [
    "train_data_paths = data_paths[:n_train]\n",
    "val_data_paths = data_paths[n_train:n_train+n_val]\n",
    "test_data_paths = data_paths[n_train+n_val:]\\\n",
    "\n",
    "len(train_data_paths), len(val_data_paths), len(test_data_paths)"
   ]
  },
  {
   "cell_type": "code",
   "execution_count": 83,
   "metadata": {},
   "outputs": [],
   "source": [
    "# def get_arrays(image_paths, gt_paths, tile_size, number, seed=42):\n",
    "#     n = len(image_paths)\n",
    "#     tiles_ls = []\n",
    "#     gts_ls = []\n",
    "#     for i in range(n):\n",
    "#         image = np.asarray(Image.open(image_paths[i]))\n",
    "#         gt = np.asarray(Image.open(gt_paths[i]))\n",
    "#         image_patches = extract_patches_2d(image, (tile_size, tile_size), max_patches=number, random_state=seed)\n",
    "#         tiles_ls.append(image_patches)\n",
    "#         gt_patches = extract_patches_2d(gt, (tile_size, tile_size), max_patches=number, random_state=seed)\n",
    "#         gts_ls.append(gt_patches)\n",
    "    \n",
    "#     tiles = np.concatenate(tiles_ls)\n",
    "#     gts = np.concatenate(gts_ls)\n",
    "\n",
    "#     # Shuffle\n",
    "#     np.random.seed(seed)\n",
    "#     idxs = np.random.choice(np.arange(0, len(tiles)), len(tiles), replace=False)\n",
    "#     tiles = tiles[idxs]\n",
    "#     gts = gts[idxs]\n",
    "\n",
    "#     return tiles, gts"
   ]
  },
  {
   "cell_type": "code",
   "execution_count": 84,
   "metadata": {},
   "outputs": [],
   "source": [
    "def get_arrays(data_paths, tile_size, number, seed=42):\n",
    "    n = len(data_paths)\n",
    "    tiles_ls = []\n",
    "    gts_ls = []\n",
    "    for data_dict in data_paths:\n",
    "        image = np.asarray(Image.open(data_dict['image']))\n",
    "        gt = np.asarray(Image.open(data_dict['mask']))\n",
    "        image_patches = extract_patches_2d(image, (tile_size, tile_size), max_patches=number, random_state=seed)\n",
    "        tiles_ls.append(image_patches)\n",
    "        gt_patches = extract_patches_2d(gt, (tile_size, tile_size), max_patches=number, random_state=seed)\n",
    "        gts_ls.append(gt_patches)\n",
    "    \n",
    "    tiles = np.concatenate(tiles_ls)\n",
    "    gts = np.concatenate(gts_ls)\n",
    "\n",
    "    # Shuffle\n",
    "    np.random.seed(seed)\n",
    "    idxs = np.random.choice(np.arange(0, len(tiles)), len(tiles), replace=False)\n",
    "    tiles = tiles[idxs]\n",
    "    gts = gts[idxs]\n",
    "\n",
    "    return tiles, gts"
   ]
  },
  {
   "cell_type": "code",
   "execution_count": 85,
   "metadata": {},
   "outputs": [
    {
     "data": {
      "text/plain": [
       "((5600, 64, 64, 3), (5600, 64, 64))"
      ]
     },
     "execution_count": 85,
     "metadata": {},
     "output_type": "execute_result"
    }
   ],
   "source": [
    "train_tiles, train_gts = get_arrays(train_data_paths, TILE_SIZE, N_TILES_PER_IMAGE)\n",
    "\n",
    "train_tiles.shape, train_gts.shape"
   ]
  },
  {
   "cell_type": "code",
   "execution_count": 86,
   "metadata": {},
   "outputs": [
    {
     "data": {
      "text/plain": [
       "((1600, 64, 64, 3), (1600, 64, 64))"
      ]
     },
     "execution_count": 86,
     "metadata": {},
     "output_type": "execute_result"
    }
   ],
   "source": [
    "val_tiles, val_gts = get_arrays(val_data_paths, TILE_SIZE, N_TILES_PER_IMAGE)\n",
    "\n",
    "val_tiles.shape, val_gts.shape"
   ]
  },
  {
   "cell_type": "code",
   "execution_count": 87,
   "metadata": {},
   "outputs": [
    {
     "data": {
      "text/plain": [
       "((800, 64, 64, 3), (800, 64, 64))"
      ]
     },
     "execution_count": 87,
     "metadata": {},
     "output_type": "execute_result"
    }
   ],
   "source": [
    "test_tiles, test_gts = get_arrays(test_data_paths, TILE_SIZE, N_TILES_PER_IMAGE)\n",
    "\n",
    "test_tiles.shape, test_gts.shape"
   ]
  },
  {
   "cell_type": "code",
   "execution_count": 88,
   "metadata": {},
   "outputs": [
    {
     "data": {
      "image/png": "[encoded data removed]",
      "text/plain": [
       "<Figure size 500x500 with 2 Axes>"
      ]
     },
     "metadata": {},
     "output_type": "display_data"
    }
   ],
   "source": [
    "# Train example\n",
    "i = 8\n",
    "fig, axes = plt.subplots(nrows=1, ncols=2, figsize=(5, 5))\n",
    "\n",
    "axes[0].imshow(train_tiles[i])\n",
    "axes[0].axis('off')\n",
    "\n",
    "axes[1].imshow(train_gts[i], cmap='gray')\n",
    "axes[1].axis('off')\n",
    "\n",
    "plt.show()"
   ]
  },
  {
   "cell_type": "code",
   "execution_count": 89,
   "metadata": {},
   "outputs": [
    {
     "data": {
      "image/png": "[encoded data removed]",
      "text/plain": [
       "<Figure size 500x500 with 2 Axes>"
      ]
     },
     "metadata": {},
     "output_type": "display_data"
    }
   ],
   "source": [
    "# Val example\n",
    "i = 101\n",
    "fig, axes = plt.subplots(nrows=1, ncols=2, figsize=(5, 5))\n",
    "\n",
    "axes[0].imshow(train_tiles[i])\n",
    "axes[0].axis('off')\n",
    "\n",
    "axes[1].imshow(train_gts[i], cmap='gray')\n",
    "axes[1].axis('off')\n",
    "\n",
    "plt.show()"
   ]
  },
  {
   "cell_type": "code",
   "execution_count": 90,
   "metadata": {},
   "outputs": [
    {
     "data": {
      "image/png": "[encoded data removed]",
      "text/plain": [
       "<Figure size 500x500 with 2 Axes>"
      ]
     },
     "metadata": {},
     "output_type": "display_data"
    }
   ],
   "source": [
    "# Test example\n",
    "i = 543\n",
    "fig, axes = plt.subplots(nrows=1, ncols=2, figsize=(5, 5))\n",
    "\n",
    "axes[0].imshow(train_tiles[i])\n",
    "axes[0].axis('off')\n",
    "\n",
    "axes[1].imshow(train_gts[i], cmap='gray')\n",
    "axes[1].axis('off')\n",
    "\n",
    "plt.show()"
   ]
  },
  {
   "cell_type": "code",
   "execution_count": 91,
   "metadata": {},
   "outputs": [],
   "source": [
    "# # Check if train set and test set have no overlap\n",
    "# count = 0\n",
    "# for train_tile in tqdm(train_tiles):\n",
    "#     for test_tile in test_tiles:\n",
    "#         if np.all(train_tile==test_tile):\n",
    "#             count += 1\n",
    "\n",
    "# count"
   ]
  },
  {
   "cell_type": "code",
   "execution_count": 92,
   "metadata": {},
   "outputs": [
    {
     "data": {
      "text/plain": [
       "(427, 111, 58)"
      ]
     },
     "execution_count": 92,
     "metadata": {},
     "output_type": "execute_result"
    }
   ],
   "source": [
    "# How many empty gt masks\n",
    "empty_train_idxs = [idx for idx in range(len(train_gts)) if train_gts[idx].sum()==0]\n",
    "empty_val_idxs = [idx for idx in range(len(val_gts)) if val_gts[idx].sum()==0]\n",
    "empty_test_idxs = [idx for idx in range(len(test_gts)) if test_gts[idx].sum()==0]\n",
    "\n",
    "len(empty_train_idxs), len(empty_val_idxs), len(empty_test_idxs)"
   ]
  },
  {
   "cell_type": "code",
   "execution_count": 93,
   "metadata": {},
   "outputs": [],
   "source": [
    "# Remove empty gt masks (and corresponding tile)\n",
    "full_train_tiles = train_tiles[[idx for idx in range(len(train_tiles)) if idx not in empty_train_idxs]]\n",
    "full_train_gts = train_gts[[idx for idx in range(len(train_gts)) if idx not in empty_train_idxs]]\n",
    "\n",
    "full_val_tiles = val_tiles[[idx for idx in range(len(val_tiles)) if idx not in empty_val_idxs]]\n",
    "full_val_gts = val_gts[[idx for idx in range(len(val_gts)) if idx not in empty_val_idxs]]\n",
    "\n",
    "full_test_tiles = test_tiles[[idx for idx in range(len(test_tiles)) if idx not in empty_test_idxs]]\n",
    "full_test_gts = test_gts[[idx for idx in range(len(test_gts)) if idx not in empty_test_idxs]]"
   ]
  },
  {
   "cell_type": "code",
   "execution_count": 94,
   "metadata": {},
   "outputs": [
    {
     "name": "stdout",
     "output_type": "stream",
     "text": [
      "(5173, 64, 64, 3) (5173, 64, 64)\n",
      "(1489, 64, 64, 3) (1489, 64, 64)\n",
      "(742, 64, 64, 3) (742, 64, 64)\n"
     ]
    }
   ],
   "source": [
    "print(full_train_tiles.shape, full_train_gts.shape)\n",
    "print(full_val_tiles.shape, full_val_gts.shape)\n",
    "print(full_test_tiles.shape, full_test_gts.shape)"
   ]
  },
  {
   "cell_type": "code",
   "execution_count": 96,
   "metadata": {},
   "outputs": [],
   "source": [
    "# # Sample 5000 tiles and gts.\n",
    "# idxs = np.arange(0, len(tiles), 1)\n",
    "# random_idxs = np.random.choice(idxs, 5000)\n",
    "# tiles = tiles[random_idxs]\n",
    "# gts = gts[random_idxs]\n",
    "\n",
    "# tiles.shape, gts.shape"
   ]
  },
  {
   "cell_type": "code",
   "execution_count": 97,
   "metadata": {},
   "outputs": [
    {
     "data": {
      "text/plain": [
       "(0, 0)"
      ]
     },
     "execution_count": 97,
     "metadata": {},
     "output_type": "execute_result"
    }
   ],
   "source": [
    "# Check if gt masks all empty\n",
    "empty_train_idxs = [idx for idx in range(len(full_train_gts)) if full_train_gts[idx].sum()==0]\n",
    "empty_test_idxs = [idx for idx in range(len(full_test_gts)) if full_test_gts[idx].sum()==0]\n",
    "len(empty_train_idxs), len(empty_test_idxs)"
   ]
  },
  {
   "cell_type": "code",
   "execution_count": 99,
   "metadata": {},
   "outputs": [],
   "source": [
    "# # Save train and test sets\n",
    "# np.save(file=os.path.join(OUTPUT_PATH, 'train_tiles.npy'), arr=full_train_tiles)\n",
    "# np.save(file=os.path.join(OUTPUT_PATH, 'train_gts.npy'), arr=full_train_gts)\n",
    "\n",
    "# np.save(file=os.path.join(OUTPUT_PATH, 'val_tiles.npy'), arr=full_val_tiles)\n",
    "# np.save(file=os.path.join(OUTPUT_PATH, 'val_gts.npy'), arr=full_val_gts)\n",
    "\n",
    "# np.save(file=os.path.join(OUTPUT_PATH, 'test_tiles.npy'), arr=full_test_tiles)\n",
    "# np.save(file=os.path.join(OUTPUT_PATH, 'test_gts.npy'), arr=full_test_gts)"
   ]
  },
  {
   "cell_type": "code",
   "execution_count": 121,
   "metadata": {},
   "outputs": [],
   "source": [
    "# # Save as NPZ files, containing both images and masks\n",
    "# np.savez('data/tiles/train_data.npz', images=full_train_tiles, masks=full_train_gts)\n",
    "# np.savez('data/tiles/val_data.npz', images=full_val_tiles, masks=full_val_gts)\n",
    "# np.savez('data/tiles/test_data.npz', images=full_test_tiles, masks=full_test_gts)"
   ]
  },
  {
   "cell_type": "code",
   "execution_count": 3,
   "metadata": {},
   "outputs": [],
   "source": [
    "d = np.load('data/tiles/train_data.npz')"
   ]
  },
  {
   "cell_type": "code",
   "execution_count": 4,
   "metadata": {},
   "outputs": [
    {
     "data": {
      "text/plain": [
       "numpy.lib.npyio.NpzFile"
      ]
     },
     "execution_count": 4,
     "metadata": {},
     "output_type": "execute_result"
    }
   ],
   "source": [
    "type(d)"
   ]
  },
  {
   "cell_type": "code",
   "execution_count": 123,
   "metadata": {},
   "outputs": [
    {
     "data": {
      "text/plain": [
       "['images', 'masks']"
      ]
     },
     "execution_count": 123,
     "metadata": {},
     "output_type": "execute_result"
    }
   ],
   "source": [
    "d.files"
   ]
  },
  {
   "cell_type": "code",
   "execution_count": 124,
   "metadata": {},
   "outputs": [
    {
     "data": {
      "text/plain": [
       "((5173, 64, 64, 3), (5173, 64, 64))"
      ]
     },
     "execution_count": 124,
     "metadata": {},
     "output_type": "execute_result"
    }
   ],
   "source": [
    "d['images'].shape, d['masks'].shape"
   ]
  }
 ],
 "metadata": {
  "kernelspec": {
   "display_name": "gym",
   "language": "python",
   "name": "python3"
  },
  "language_info": {
   "codemirror_mode": {
    "name": "ipython",
    "version": 3
   },
   "file_extension": ".py",
   "mimetype": "text/x-python",
   "name": "python",
   "nbconvert_exporter": "python",
   "pygments_lexer": "ipython3",
   "version": "3.8.16"
  },
  "orig_nbformat": 4,
  "vscode": {
   "interpreter": {
    "hash": "bb531296ae4e16bb54b7d76e17288c42c29593e4c5a749a6f97c10f26124b31c"
   }
  }
 },
 "nbformat": 4,
 "nbformat_minor": 2
}
